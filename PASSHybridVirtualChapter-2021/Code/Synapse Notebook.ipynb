{
  "cells": [
    {
      "cell_type": "code",
      "source": [
        "basePath = \"abfss://lakehouse@synstore01.dfs.core.windows.net\""
      ],
      "outputs": [
        {
          "output_type": "display_data",
          "data": {
            "application/vnd.livy.statement-meta+json": {
              "spark_pool": "DemoSparkPool",
              "session_id": 0,
              "statement_id": 128,
              "state": "finished",
              "livy_statement_state": "available",
              "queued_time": "2021-08-25T10:14:26.175035Z",
              "session_start_time": null,
              "execution_start_time": "2021-08-25T10:14:26.3010523Z",
              "execution_finish_time": "2021-08-25T10:14:26.301144Z"
            },
            "text/plain": "StatementMeta(DemoSparkPool, 0, 128, Finished, Available)"
          },
          "metadata": {}
        },
        {
          "output_type": "stream",
          "name": "stdout",
          "text": []
        }
      ],
      "execution_count": 113,
      "metadata": {
        "collapsed": true,
        "jupyter": {
          "source_hidden": false,
          "outputs_hidden": false
        },
        "nteract": {
          "transient": {
            "deleting": false
          }
        },
        "tags": [
          "parameters"
        ]
      }
    },
    {
      "cell_type": "code",
      "source": [
        "%%sql\r\n",
        "--clean up hive\r\n",
        "DROP VIEW IF EXISTS lakehouse.OrderAggregation;\r\n",
        "DROP TABLE IF EXISTS lakehouse.OrderDetailLines;\r\n",
        "DROP TABLE IF EXISTS lakehouse.OrderHeader;\r\n",
        "DROP DATABASE IF EXISTS lakehouse;"
      ],
      "outputs": [
        {
          "output_type": "display_data",
          "data": {
            "application/vnd.livy.statement-meta+json": {
              "spark_pool": "DemoSparkPool",
              "session_id": 0,
              "statement_id": -1,
              "state": "finished",
              "livy_statement_state": "available",
              "queued_time": "2021-08-25T10:14:26.2898925Z",
              "session_start_time": null,
              "execution_start_time": "2021-08-25T10:14:29.5281993Z",
              "execution_finish_time": "2021-08-25T10:14:29.5283242Z"
            },
            "text/plain": "StatementMeta(DemoSparkPool, 0, -1, Finished, Available)"
          },
          "metadata": {}
        },
        {
          "output_type": "execute_result",
          "execution_count": 114,
          "data": {
            "application/vnd.synapse.sparksql-result+json": {
              "schema": {
                "type": "struct",
                "fields": []
              },
              "data": []
            },
            "text/plain": "<Spark SQL result set with 0 rows and 0 fields>"
          },
          "metadata": {}
        },
        {
          "output_type": "execute_result",
          "execution_count": 114,
          "data": {
            "application/vnd.synapse.sparksql-result+json": {
              "schema": {
                "type": "struct",
                "fields": []
              },
              "data": []
            },
            "text/plain": "<Spark SQL result set with 0 rows and 0 fields>"
          },
          "metadata": {}
        },
        {
          "output_type": "execute_result",
          "execution_count": 114,
          "data": {
            "application/vnd.synapse.sparksql-result+json": {
              "schema": {
                "type": "struct",
                "fields": []
              },
              "data": []
            },
            "text/plain": "<Spark SQL result set with 0 rows and 0 fields>"
          },
          "metadata": {}
        },
        {
          "output_type": "execute_result",
          "execution_count": 114,
          "data": {
            "application/vnd.synapse.sparksql-result+json": {
              "schema": {
                "type": "struct",
                "fields": []
              },
              "data": []
            },
            "text/plain": "<Spark SQL result set with 0 rows and 0 fields>"
          },
          "metadata": {}
        },
        {
          "output_type": "stream",
          "name": "stdout",
          "text": []
        }
      ],
      "execution_count": 114,
      "metadata": {
        "collapsed": false,
        "jupyter": {
          "source_hidden": false,
          "outputs_hidden": false
        },
        "nteract": {
          "transient": {
            "deleting": false
          }
        },
        "microsoft": {
          "language": "sparksql"
        }
      }
    },
    {
      "cell_type": "code",
      "source": [
        "#clean up data lake\r\n",
        "allTables = mssparkutils.fs.ls(basePath + '/tables')\r\n",
        "\r\n",
        "for i in range (0, len(allTables)) : \r\n",
        "    mssparkutils.fs.rm(allTables[i].path, True) \r\n",
        "    print(\"Removed \" + allTables[i].path)"
      ],
      "outputs": [
        {
          "output_type": "display_data",
          "data": {
            "application/vnd.livy.statement-meta+json": {
              "spark_pool": "DemoSparkPool",
              "session_id": 0,
              "statement_id": 133,
              "state": "finished",
              "livy_statement_state": "available",
              "queued_time": "2021-08-25T10:14:26.450074Z",
              "session_start_time": null,
              "execution_start_time": "2021-08-25T10:14:29.6281498Z",
              "execution_finish_time": "2021-08-25T10:14:29.7733915Z"
            },
            "text/plain": "StatementMeta(DemoSparkPool, 0, 133, Finished, Available)"
          },
          "metadata": {}
        },
        {
          "output_type": "stream",
          "name": "stdout",
          "text": []
        }
      ],
      "execution_count": 115,
      "metadata": {
        "collapsed": true,
        "jupyter": {
          "source_hidden": false,
          "outputs_hidden": false
        },
        "nteract": {
          "transient": {
            "deleting": false
          }
        },
        "microsoft": {}
      }
    },
    {
      "cell_type": "code",
      "source": [
        "dfOrderHeaders = spark.read.load(basePath + '/raw/OrderHeader.parquet', format='parquet')\r\n",
        "dfOrderHeaders.show(10)"
      ],
      "outputs": [
        {
          "output_type": "display_data",
          "data": {
            "application/vnd.livy.statement-meta+json": {
              "spark_pool": "DemoSparkPool",
              "session_id": 0,
              "statement_id": 134,
              "state": "finished",
              "livy_statement_state": "available",
              "queued_time": "2021-08-25T10:14:26.6805544Z",
              "session_start_time": null,
              "execution_start_time": "2021-08-25T10:14:29.8763636Z",
              "execution_finish_time": "2021-08-25T10:14:30.9354141Z"
            },
            "text/plain": "StatementMeta(DemoSparkPool, 0, 134, Finished, Available)"
          },
          "metadata": {}
        },
        {
          "output_type": "stream",
          "name": "stdout",
          "text": [
            "+------------+--------------+-------------------+-------------------+-------------------+------+---------------+----------------+-------------------+--------------+----------+---------------+---------------+-----------------+----------------------+-----------+---------+---------+-----------+-------+--------------------+-------------------+\n",
            "|SalesOrderID|RevisionNumber|          OrderDate|            DueDate|           ShipDate|Status|OnlineOrderFlag|SalesOrderNumber|PurchaseOrderNumber| AccountNumber|CustomerID|ShipToAddressID|BillToAddressID|       ShipMethod|CreditCardApprovalCode|   SubTotal|   TaxAmt|  Freight|   TotalDue|Comment|             rowguid|       ModifiedDate|\n",
            "+------------+--------------+-------------------+-------------------+-------------------+------+---------------+----------------+-------------------+--------------+----------+---------------+---------------+-----------------+----------------------+-----------+---------+---------+-----------+-------+--------------------+-------------------+\n",
            "|       71774|             2|2008-06-01 00:00:00|2008-06-13 00:00:00|2008-06-08 00:00:00|     5|          false|         SO71774|        PO348186287|10-4020-000609|     29847|           1092|           1092|CARGO TRANSPORT 5|                  null|   880.3484|  70.4279|  22.0087|   972.7850|   null|89e42cdc-8506-48a...|2008-06-08 00:00:00|\n",
            "|       71776|             2|2008-06-01 00:00:00|2008-06-13 00:00:00|2008-06-08 00:00:00|     5|          false|         SO71776|      PO19952192051|10-4020-000106|     30072|            640|            640|CARGO TRANSPORT 5|                  null|    78.8100|   6.3048|   1.9703|    87.0851|   null|8a3448c5-e677-415...|2008-06-08 00:00:00|\n",
            "|       71780|             2|2008-06-01 00:00:00|2008-06-13 00:00:00|2008-06-08 00:00:00|     5|          false|         SO71780|      PO19604173239|10-4020-000340|     30113|            653|            653|CARGO TRANSPORT 5|                  null| 38418.6895|3073.4952| 960.4672| 42452.6519|   null|a47665d2-7ac9-4cf...|2008-06-08 00:00:00|\n",
            "|       71782|             2|2008-06-01 00:00:00|2008-06-13 00:00:00|2008-06-08 00:00:00|     5|          false|         SO71782|      PO19372114749|10-4020-000582|     29485|           1086|           1086|CARGO TRANSPORT 5|                  null| 39785.3304|3182.8264| 994.6333| 43962.7901|   null|f1be45a5-5c57-4a5...|2008-06-08 00:00:00|\n",
            "|       71783|             2|2008-06-01 00:00:00|2008-06-13 00:00:00|2008-06-08 00:00:00|     5|          false|         SO71783|      PO19343113609|10-4020-000024|     29957|            992|            992|CARGO TRANSPORT 5|                  null| 83858.4261|6708.6741|2096.4607| 92663.5609|   null|7db2329e-6446-42a...|2008-06-08 00:00:00|\n",
            "|       71784|             2|2008-06-01 00:00:00|2008-06-13 00:00:00|2008-06-08 00:00:00|     5|          false|         SO71784|      PO19285135919|10-4020-000448|     29736|            659|            659|CARGO TRANSPORT 5|                  null|108561.8317|8684.9465|2714.0458|119960.8240|   null|ca31f324-2c32-4f8...|2008-06-08 00:00:00|\n",
            "|       71796|             2|2008-06-01 00:00:00|2008-06-13 00:00:00|2008-06-08 00:00:00|     5|          false|         SO71796|      PO17052159664|10-4020-000420|     29660|           1058|           1058|CARGO TRANSPORT 5|                  null| 57634.6342|4610.7707|1440.8659| 63686.2708|   null|917ef5ba-f32d-456...|2008-06-08 00:00:00|\n",
            "|       71797|             2|2008-06-01 00:00:00|2008-06-13 00:00:00|2008-06-08 00:00:00|     5|          false|         SO71797|      PO16501134889|10-4020-000142|     29796|            642|            642|CARGO TRANSPORT 5|                  null| 78029.6898|6242.3752|1950.7422| 86222.8072|   null|bb3fee84-c8bf-4dd...|2008-06-08 00:00:00|\n",
            "|       71815|             2|2008-06-01 00:00:00|2008-06-13 00:00:00|2008-06-08 00:00:00|     5|          false|         SO71815|      PO13021155785|10-4020-000276|     30089|           1034|           1034|CARGO TRANSPORT 5|                  null|  1141.5782|  91.3263|  28.5395|  1261.4440|   null|2aa5f39b-1096-4a4...|2008-06-08 00:00:00|\n",
            "|       71816|             2|2008-06-01 00:00:00|2008-06-13 00:00:00|2008-06-08 00:00:00|     5|          false|         SO71816|      PO12992180445|10-4020-000295|     30027|           1038|           1038|CARGO TRANSPORT 5|                  null|  3398.1659| 271.8533|  84.9541|  3754.9733|   null|e3c189e7-98de-4c4...|2008-06-08 00:00:00|\n",
            "+------------+--------------+-------------------+-------------------+-------------------+------+---------------+----------------+-------------------+--------------+----------+---------------+---------------+-----------------+----------------------+-----------+---------+---------+-----------+-------+--------------------+-------------------+\n",
            "only showing top 10 rows"
          ]
        }
      ],
      "execution_count": 116,
      "metadata": {
        "microsoft": {}
      }
    },
    {
      "cell_type": "code",
      "source": [
        "dfOrderLines = spark.read.load(basePath + '/raw/OrderDetailLines.parquet', format='parquet')\r\n",
        "dfOrderLines.show(10)"
      ],
      "outputs": [
        {
          "output_type": "display_data",
          "data": {
            "application/vnd.livy.statement-meta+json": {
              "spark_pool": "DemoSparkPool",
              "session_id": 0,
              "statement_id": 135,
              "state": "finished",
              "livy_statement_state": "available",
              "queued_time": "2021-08-25T10:14:26.8391031Z",
              "session_start_time": null,
              "execution_start_time": "2021-08-25T10:14:31.0469291Z",
              "execution_finish_time": "2021-08-25T10:14:31.5646623Z"
            },
            "text/plain": "StatementMeta(DemoSparkPool, 0, 135, Finished, Available)"
          },
          "metadata": {}
        },
        {
          "output_type": "stream",
          "name": "stdout",
          "text": [
            "+------------+------------------+--------+---------+---------+-----------------+-----------+--------------------+-------------------+\n",
            "|SalesOrderID|SalesOrderDetailID|OrderQty|ProductID|UnitPrice|UnitPriceDiscount|  LineTotal|             rowguid|       ModifiedDate|\n",
            "+------------+------------------+--------+---------+---------+-----------------+-----------+--------------------+-------------------+\n",
            "|       71774|            110562|       1|      836| 356.8980|           0.0000| 356.898000|e3a1994c-7a68-4ce...|2008-06-01 00:00:00|\n",
            "|       71774|            110563|       1|      822| 356.8980|           0.0000| 356.898000|5c77f557-fdb6-43b...|2008-06-01 00:00:00|\n",
            "|       71776|            110567|       1|      907|  63.9000|           0.0000|  63.900000|6dbfe398-d15d-425...|2008-06-01 00:00:00|\n",
            "|       71780|            110616|       4|      905| 218.4540|           0.0000| 873.816000|377246c9-4483-48e...|2008-06-01 00:00:00|\n",
            "|       71780|            110617|       2|      983| 461.6940|           0.0000| 923.388000|43a54bcd-536d-4a1...|2008-06-01 00:00:00|\n",
            "|       71780|            110618|       6|      988| 112.9980|           0.4000| 406.792800|12706fab-f3a2-48c...|2008-06-01 00:00:00|\n",
            "|       71780|            110619|       2|      748| 818.7000|           0.0000|1637.400000|b12f0d3b-5b4e-4f1...|2008-06-01 00:00:00|\n",
            "|       71780|            110620|       1|      990| 323.9940|           0.0000| 323.994000|f117a449-039d-44b...|2008-06-01 00:00:00|\n",
            "|       71780|            110621|       1|      926| 149.8740|           0.0000| 149.874000|92e5052b-72d0-4c9...|2008-06-01 00:00:00|\n",
            "|       71780|            110622|       1|      743| 809.7600|           0.0000| 809.760000|8bd33bed-c4f6-4d4...|2008-06-01 00:00:00|\n",
            "+------------+------------------+--------+---------+---------+-----------------+-----------+--------------------+-------------------+\n",
            "only showing top 10 rows"
          ]
        }
      ],
      "execution_count": 117,
      "metadata": {
        "collapsed": true,
        "jupyter": {
          "source_hidden": false,
          "outputs_hidden": false
        },
        "nteract": {
          "transient": {
            "deleting": false
          }
        }
      }
    },
    {
      "cell_type": "code",
      "source": [
        "dfOrderHeaders.write.format(\"delta\").mode(\"overwrite\").save(basePath + '/tables/OrderHeader')\r\n",
        "dfOrderLines.write.format(\"delta\").mode(\"overwrite\").save(basePath + '/tables/OrderDetailLines')"
      ],
      "outputs": [
        {
          "output_type": "display_data",
          "data": {
            "application/vnd.livy.statement-meta+json": {
              "spark_pool": "DemoSparkPool",
              "session_id": 0,
              "statement_id": 136,
              "state": "finished",
              "livy_statement_state": "available",
              "queued_time": "2021-08-25T10:14:26.9407551Z",
              "session_start_time": null,
              "execution_start_time": "2021-08-25T10:14:31.6736256Z",
              "execution_finish_time": "2021-08-25T10:14:38.4947817Z"
            },
            "text/plain": "StatementMeta(DemoSparkPool, 0, 136, Finished, Available)"
          },
          "metadata": {}
        },
        {
          "output_type": "stream",
          "name": "stdout",
          "text": []
        }
      ],
      "execution_count": 118,
      "metadata": {
        "collapsed": true,
        "jupyter": {
          "source_hidden": false,
          "outputs_hidden": false
        },
        "nteract": {
          "transient": {
            "deleting": false
          }
        }
      }
    },
    {
      "cell_type": "code",
      "source": [
        "%%sql\r\n",
        "CREATE DATABASE IF NOT EXISTS lakehouse"
      ],
      "outputs": [
        {
          "output_type": "display_data",
          "data": {
            "application/vnd.livy.statement-meta+json": {
              "spark_pool": "DemoSparkPool",
              "session_id": 0,
              "statement_id": 137,
              "state": "finished",
              "livy_statement_state": "available",
              "queued_time": "2021-08-25T10:14:27.0104964Z",
              "session_start_time": null,
              "execution_start_time": "2021-08-25T10:14:38.5972468Z",
              "execution_finish_time": "2021-08-25T10:14:40.4339166Z"
            },
            "text/plain": "StatementMeta(DemoSparkPool, 0, 137, Finished, Available)"
          },
          "metadata": {}
        },
        {
          "output_type": "execute_result",
          "execution_count": 119,
          "data": {
            "application/vnd.synapse.sparksql-result+json": {
              "schema": {
                "type": "struct",
                "fields": []
              },
              "data": []
            },
            "text/plain": "<Spark SQL result set with 0 rows and 0 fields>"
          },
          "metadata": {}
        }
      ],
      "execution_count": 119,
      "metadata": {
        "collapsed": false,
        "jupyter": {
          "source_hidden": false,
          "outputs_hidden": false
        },
        "nteract": {
          "transient": {
            "deleting": false
          }
        },
        "microsoft": {
          "language": "sparksql"
        }
      }
    },
    {
      "cell_type": "code",
      "source": [
        "headersQuery = \"CREATE TABLE IF NOT EXISTS lakehouse.OrderHeader USING DELTA LOCATION '{}/tables/OrderHeader'\".format(basePath)\r\n",
        "linesQuery = \"CREATE TABLE IF NOT EXISTS lakehouse.OrderDetailLines USING DELTA LOCATION '{}/tables/OrderDetailLines'\".format(basePath)\r\n",
        "sqlContext.sql(headersQuery)\r\n",
        "sqlContext.sql(linesQuery)"
      ],
      "outputs": [
        {
          "output_type": "display_data",
          "data": {
            "application/vnd.livy.statement-meta+json": {
              "spark_pool": "DemoSparkPool",
              "session_id": 0,
              "statement_id": 138,
              "state": "finished",
              "livy_statement_state": "available",
              "queued_time": "2021-08-25T10:14:27.0771111Z",
              "session_start_time": null,
              "execution_start_time": "2021-08-25T10:14:40.5367413Z",
              "execution_finish_time": "2021-08-25T10:14:43.3072428Z"
            },
            "text/plain": "StatementMeta(DemoSparkPool, 0, 138, Finished, Available)"
          },
          "metadata": {}
        },
        {
          "output_type": "display_data",
          "data": {
            "text/plain": "DataFrame[]"
          },
          "metadata": {}
        },
        {
          "output_type": "execute_result",
          "execution_count": 120,
          "data": {},
          "metadata": {}
        }
      ],
      "execution_count": 120,
      "metadata": {
        "collapsed": true,
        "jupyter": {
          "source_hidden": false,
          "outputs_hidden": false
        },
        "nteract": {
          "transient": {
            "deleting": false
          }
        }
      }
    },
    {
      "cell_type": "code",
      "source": [
        "%%sql\r\n",
        "SELECT\r\n",
        "    h.SalesOrderNumber,\r\n",
        "    COUNT(l.SalesOrderDetailID) AS RecordCount\r\n",
        "FROM\r\n",
        "    lakehouse.OrderHeader h\r\n",
        "    INNER JOIN lakehouse.OrderDetailLines l\r\n",
        "        ON h.SalesOrderID = l.SalesOrderID\r\n",
        "GROUP BY\r\n",
        "    h.SalesOrderNumber\r\n",
        "HAVING\r\n",
        "    RecordCount > 1"
      ],
      "outputs": [
        {
          "output_type": "display_data",
          "data": {
            "application/vnd.livy.statement-meta+json": {
              "spark_pool": "DemoSparkPool",
              "session_id": 0,
              "statement_id": 139,
              "state": "finished",
              "livy_statement_state": "available",
              "queued_time": "2021-08-25T10:14:27.1422054Z",
              "session_start_time": null,
              "execution_start_time": "2021-08-25T10:14:43.4126003Z",
              "execution_finish_time": "2021-08-25T10:14:46.1891843Z"
            },
            "text/plain": "StatementMeta(DemoSparkPool, 0, 139, Finished, Available)"
          },
          "metadata": {}
        },
        {
          "output_type": "execute_result",
          "execution_count": 121,
          "data": {
            "application/vnd.synapse.sparksql-result+json": {
              "schema": {
                "type": "struct",
                "fields": [
                  {
                    "name": "SalesOrderNumber",
                    "type": "string",
                    "nullable": true,
                    "metadata": {}
                  },
                  {
                    "name": "RecordCount",
                    "type": "long",
                    "nullable": false,
                    "metadata": {}
                  }
                ]
              },
              "data": [
                [
                  "SO71831",
                  3
                ],
                [
                  "SO71815",
                  3
                ],
                [
                  "SO71938",
                  42
                ],
                [
                  "SO71846",
                  4
                ],
                [
                  "SO71783",
                  43
                ],
                [
                  "SO71858",
                  17
                ],
                [
                  "SO71780",
                  29
                ],
                [
                  "SO71902",
                  50
                ],
                [
                  "SO71899",
                  8
                ],
                [
                  "SO71856",
                  2
                ],
                [
                  "SO71816",
                  7
                ],
                [
                  "SO71784",
                  43
                ],
                [
                  "SO71797",
                  46
                ],
                [
                  "SO71936",
                  46
                ],
                [
                  "SO71897",
                  8
                ],
                [
                  "SO71845",
                  31
                ],
                [
                  "SO71923",
                  3
                ],
                [
                  "SO71796",
                  20
                ],
                [
                  "SO71782",
                  43
                ],
                [
                  "SO71920",
                  6
                ],
                [
                  "SO71915",
                  5
                ],
                [
                  "SO71774",
                  2
                ],
                [
                  "SO71832",
                  30
                ],
                [
                  "SO71895",
                  3
                ],
                [
                  "SO71898",
                  28
                ],
                [
                  "SO71935",
                  6
                ],
                [
                  "SO71885",
                  3
                ],
                [
                  "SO71863",
                  7
                ]
              ]
            },
            "text/plain": "<Spark SQL result set with 28 rows and 2 fields>"
          },
          "metadata": {}
        }
      ],
      "execution_count": 121,
      "metadata": {
        "collapsed": false,
        "jupyter": {
          "source_hidden": false,
          "outputs_hidden": false
        },
        "nteract": {
          "transient": {
            "deleting": false
          }
        },
        "microsoft": {
          "language": "sparksql"
        }
      }
    },
    {
      "cell_type": "code",
      "source": [
        "%%sql\r\n",
        "CREATE VIEW IF NOT EXISTS lakehouse.OrderAggregation\r\n",
        "AS\r\n",
        "SELECT\r\n",
        "    h.SalesOrderNumber,\r\n",
        "    COUNT(l.SalesOrderDetailID) AS RecordCount\r\n",
        "FROM\r\n",
        "    lakehouse.OrderHeader h\r\n",
        "    INNER JOIN lakehouse.OrderDetailLines l\r\n",
        "        ON h.SalesOrderID = l.SalesOrderID\r\n",
        "GROUP BY\r\n",
        "    h.SalesOrderNumber\r\n",
        "HAVING\r\n",
        "    RecordCount > 1"
      ],
      "outputs": [
        {
          "output_type": "display_data",
          "data": {
            "application/vnd.livy.statement-meta+json": {
              "spark_pool": "DemoSparkPool",
              "session_id": 0,
              "statement_id": 140,
              "state": "finished",
              "livy_statement_state": "available",
              "queued_time": "2021-08-25T10:14:27.2213066Z",
              "session_start_time": null,
              "execution_start_time": "2021-08-25T10:14:46.2954091Z",
              "execution_finish_time": "2021-08-25T10:14:47.3809753Z"
            },
            "text/plain": "StatementMeta(DemoSparkPool, 0, 140, Finished, Available)"
          },
          "metadata": {}
        },
        {
          "output_type": "execute_result",
          "execution_count": 122,
          "data": {
            "application/vnd.synapse.sparksql-result+json": {
              "schema": {
                "type": "struct",
                "fields": []
              },
              "data": []
            },
            "text/plain": "<Spark SQL result set with 0 rows and 0 fields>"
          },
          "metadata": {}
        }
      ],
      "execution_count": 122,
      "metadata": {
        "collapsed": false,
        "jupyter": {
          "source_hidden": false,
          "outputs_hidden": false
        },
        "nteract": {
          "transient": {
            "deleting": false
          }
        },
        "microsoft": {
          "language": "sparksql"
        }
      }
    },
    {
      "cell_type": "code",
      "source": [
        "%%sql\r\n",
        "SELECT * FROM lakehouse.OrderAggregation"
      ],
      "outputs": [
        {
          "output_type": "display_data",
          "data": {
            "application/vnd.livy.statement-meta+json": {
              "spark_pool": "DemoSparkPool",
              "session_id": 0,
              "statement_id": 141,
              "state": "finished",
              "livy_statement_state": "available",
              "queued_time": "2021-08-25T10:14:27.288302Z",
              "session_start_time": null,
              "execution_start_time": "2021-08-25T10:14:47.5054431Z",
              "execution_finish_time": "2021-08-25T10:14:50.8131122Z"
            },
            "text/plain": "StatementMeta(DemoSparkPool, 0, 141, Finished, Available)"
          },
          "metadata": {}
        },
        {
          "output_type": "execute_result",
          "execution_count": 123,
          "data": {
            "application/vnd.synapse.sparksql-result+json": {
              "schema": {
                "type": "struct",
                "fields": [
                  {
                    "name": "SalesOrderNumber",
                    "type": "string",
                    "nullable": true,
                    "metadata": {}
                  },
                  {
                    "name": "RecordCount",
                    "type": "long",
                    "nullable": false,
                    "metadata": {}
                  }
                ]
              },
              "data": [
                [
                  "SO71831",
                  3
                ],
                [
                  "SO71815",
                  3
                ],
                [
                  "SO71938",
                  42
                ],
                [
                  "SO71846",
                  4
                ],
                [
                  "SO71783",
                  43
                ],
                [
                  "SO71858",
                  17
                ],
                [
                  "SO71780",
                  29
                ],
                [
                  "SO71902",
                  50
                ],
                [
                  "SO71899",
                  8
                ],
                [
                  "SO71856",
                  2
                ],
                [
                  "SO71816",
                  7
                ],
                [
                  "SO71784",
                  43
                ],
                [
                  "SO71797",
                  46
                ],
                [
                  "SO71936",
                  46
                ],
                [
                  "SO71897",
                  8
                ],
                [
                  "SO71845",
                  31
                ],
                [
                  "SO71923",
                  3
                ],
                [
                  "SO71796",
                  20
                ],
                [
                  "SO71782",
                  43
                ],
                [
                  "SO71920",
                  6
                ],
                [
                  "SO71915",
                  5
                ],
                [
                  "SO71774",
                  2
                ],
                [
                  "SO71832",
                  30
                ],
                [
                  "SO71895",
                  3
                ],
                [
                  "SO71898",
                  28
                ],
                [
                  "SO71935",
                  6
                ],
                [
                  "SO71885",
                  3
                ],
                [
                  "SO71863",
                  7
                ]
              ]
            },
            "text/plain": "<Spark SQL result set with 28 rows and 2 fields>"
          },
          "metadata": {}
        }
      ],
      "execution_count": 123,
      "metadata": {
        "collapsed": false,
        "jupyter": {
          "source_hidden": false,
          "outputs_hidden": false
        },
        "nteract": {
          "transient": {
            "deleting": false
          }
        },
        "microsoft": {
          "language": "sparksql"
        }
      }
    },
    {
      "cell_type": "code",
      "source": [],
      "outputs": [],
      "execution_count": null,
      "metadata": {
        "collapsed": true,
        "jupyter": {
          "source_hidden": false,
          "outputs_hidden": false
        },
        "nteract": {
          "transient": {
            "deleting": false
          }
        }
      }
    }
  ],
  "metadata": {
    "language_info": {
      "name": "python"
    },
    "kernelspec": {
      "name": "synapse_pyspark",
      "language": "Python",
      "display_name": "Synapse PySpark"
    },
    "kernel_info": {
      "name": "synapse_pyspark"
    },
    "save_output": true,
    "synapse_widget": {
      "version": "0.1",
      "state": {}
    }
  },
  "nbformat": 4,
  "nbformat_minor": 2
}